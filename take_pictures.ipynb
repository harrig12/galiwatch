{
 "cells": [
  {
   "cell_type": "markdown",
   "metadata": {
    "deletable": false,
    "scrolled": true
   },
   "source": [
    "# Use this code to take timelapse pictures with the raspberry pi\n",
    "\n",
    "We are using jupyter notebooks to send the instructions typed here to the raspberry pi. The pi will execute the instructions, and the result will appear here. Jupyter notebooks are divided into different \"cells\", each one can hold code that can be executed by clicking `Run`. There's only two cells of code here, and you can change the values in the first one to suit you needs.\n",
    "\n",
    "Changes to the notebook will be auto-saved.\n",
    "\n",
    "\n",
    ">1. If you want to change settings from the default, do so in the cell below \n",
    ">1. Navigate to `Cell` in the toolbar and find `Run All` in the dropdown to use the presets\n",
    "\n",
    "The timelapse capture will begin. You can inturrupt it by pressing the stop button (interrupt the kernal) in the toolbar."
   ]
  },
  {
   "cell_type": "code",
   "execution_count": 9,
   "metadata": {},
   "outputs": [],
   "source": [
    "# maximum number of pictures to take\n",
    "max_number_of_pictures = 3\n",
    "\n",
    "# take a picture every X seconds \n",
    "take_picture_every = 1\n",
    "\n",
    "# image files will be named using prefix\n",
    "prefix = 'polliWatch'"
   ]
  },
  {
   "cell_type": "code",
   "execution_count": 10,
   "metadata": {
    "scrolled": true
   },
   "outputs": [
    {
     "data": {
      "text/plain": [
       "'Timelapse will complete in 0h 0m'"
      ]
     },
     "execution_count": 10,
     "metadata": {},
     "output_type": "execute_result"
    }
   ],
   "source": [
    "sec = (max_number_of_pictures -1) * take_picture_every\n",
    "hours = sec % (24 * 3600) // 3600\n",
    "mins = sec % 3600 // 60\n",
    "\n",
    "\"Timelapse will complete in {}h {}m\".format(hours, mins)"
   ]
  },
  {
   "cell_type": "code",
   "execution_count": 13,
   "metadata": {},
   "outputs": [],
   "source": [
    "ms = sec * 1000\n",
    "every_ms = take_picture_every * 1000"
   ]
  },
  {
   "cell_type": "code",
   "execution_count": 15,
   "metadata": {},
   "outputs": [],
   "source": [
    "%%bash -s \"$ms\" \"$every_ms\" \"$prefix\"\n",
    "\n",
    "mkdir -p tl_photos\n",
    "cd tl_photos\n",
    "raspistill -t $1 -tl $2 -ts --nopreview -o $3%04d.jpg "
   ]
  },
  {
   "cell_type": "code",
   "execution_count": null,
   "metadata": {},
   "outputs": [],
   "source": []
  }
 ],
 "metadata": {
  "celltoolbar": "Edit Metadata",
  "kernelspec": {
   "display_name": "Python 3",
   "language": "python",
   "name": "python3"
  },
  "language_info": {
   "codemirror_mode": {
    "name": "ipython",
    "version": 3
   },
   "file_extension": ".py",
   "mimetype": "text/x-python",
   "name": "python",
   "nbconvert_exporter": "python",
   "pygments_lexer": "ipython3",
   "version": "3.5.3"
  }
 },
 "nbformat": 4,
 "nbformat_minor": 2
}
